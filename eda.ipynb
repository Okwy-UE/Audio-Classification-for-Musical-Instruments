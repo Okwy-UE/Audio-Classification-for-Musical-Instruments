{
 "cells": [
  {
   "cell_type": "code",
   "execution_count": 3,
   "metadata": {},
   "outputs": [],
   "source": [
    "import os\n",
    "from tqdm import tqdm\n",
    "import pandas as pd\n",
    "import numpy as np\n",
    "import matplotlib.pyplot as plt\n",
    "from scipy.io import wavfile\n",
    "from python_speech_features import mfcc, logfbank\n",
    "import librosa"
   ]
  },
  {
   "cell_type": "code",
   "execution_count": 7,
   "metadata": {},
   "outputs": [],
   "source": [
    "import sys\n",
    "sys.path.insert(0, '')\n",
    "import eda"
   ]
  },
  {
   "cell_type": "code",
   "execution_count": 12,
   "metadata": {},
   "outputs": [],
   "source": [
    "instruments_dict = {}\n",
    "instruments_dict['Instrument'] = []\n",
    "instruments_dict['Sound'] = []\n",
    "\n",
    "path = 'Audio-Classification wavfiles/'\n",
    "for fol in os.listdir(path):\n",
    "    inner_path = path + fol + '/'\n",
    "    for file in os.listdir(inner_path):\n",
    "        instruments_dict['Instrument'].append(fol)\n",
    "        instruments_dict['Sound'].append(file)"
   ]
  },
  {
   "cell_type": "code",
   "execution_count": 16,
   "metadata": {},
   "outputs": [
    {
     "data": {
      "text/html": [
       "<div>\n",
       "<style scoped>\n",
       "    .dataframe tbody tr th:only-of-type {\n",
       "        vertical-align: middle;\n",
       "    }\n",
       "\n",
       "    .dataframe tbody tr th {\n",
       "        vertical-align: top;\n",
       "    }\n",
       "\n",
       "    .dataframe thead th {\n",
       "        text-align: right;\n",
       "    }\n",
       "</style>\n",
       "<table border=\"1\" class=\"dataframe\">\n",
       "  <thead>\n",
       "    <tr style=\"text-align: right;\">\n",
       "      <th></th>\n",
       "      <th>Instrument</th>\n",
       "      <th>Sound</th>\n",
       "    </tr>\n",
       "  </thead>\n",
       "  <tbody>\n",
       "    <tr>\n",
       "      <th>0</th>\n",
       "      <td>Acoustic_guitar</td>\n",
       "      <td>0356dec7.wav</td>\n",
       "    </tr>\n",
       "    <tr>\n",
       "      <th>1</th>\n",
       "      <td>Acoustic_guitar</td>\n",
       "      <td>0eeaebcb.wav</td>\n",
       "    </tr>\n",
       "    <tr>\n",
       "      <th>2</th>\n",
       "      <td>Acoustic_guitar</td>\n",
       "      <td>10da16fb.wav</td>\n",
       "    </tr>\n",
       "    <tr>\n",
       "      <th>3</th>\n",
       "      <td>Acoustic_guitar</td>\n",
       "      <td>160c92d7.wav</td>\n",
       "    </tr>\n",
       "    <tr>\n",
       "      <th>4</th>\n",
       "      <td>Acoustic_guitar</td>\n",
       "      <td>16c9a838.wav</td>\n",
       "    </tr>\n",
       "    <tr>\n",
       "      <th>...</th>\n",
       "      <td>...</td>\n",
       "      <td>...</td>\n",
       "    </tr>\n",
       "    <tr>\n",
       "      <th>295</th>\n",
       "      <td>Violin_or_fiddle</td>\n",
       "      <td>d6144e01.wav</td>\n",
       "    </tr>\n",
       "    <tr>\n",
       "      <th>296</th>\n",
       "      <td>Violin_or_fiddle</td>\n",
       "      <td>d84c8c43.wav</td>\n",
       "    </tr>\n",
       "    <tr>\n",
       "      <th>297</th>\n",
       "      <td>Violin_or_fiddle</td>\n",
       "      <td>d914225a.wav</td>\n",
       "    </tr>\n",
       "    <tr>\n",
       "      <th>298</th>\n",
       "      <td>Violin_or_fiddle</td>\n",
       "      <td>e3f479f3.wav</td>\n",
       "    </tr>\n",
       "    <tr>\n",
       "      <th>299</th>\n",
       "      <td>Violin_or_fiddle</td>\n",
       "      <td>fec00143.wav</td>\n",
       "    </tr>\n",
       "  </tbody>\n",
       "</table>\n",
       "<p>300 rows × 2 columns</p>\n",
       "</div>"
      ],
      "text/plain": [
       "           Instrument         Sound\n",
       "0     Acoustic_guitar  0356dec7.wav\n",
       "1     Acoustic_guitar  0eeaebcb.wav\n",
       "2     Acoustic_guitar  10da16fb.wav\n",
       "3     Acoustic_guitar  160c92d7.wav\n",
       "4     Acoustic_guitar  16c9a838.wav\n",
       "..                ...           ...\n",
       "295  Violin_or_fiddle  d6144e01.wav\n",
       "296  Violin_or_fiddle  d84c8c43.wav\n",
       "297  Violin_or_fiddle  d914225a.wav\n",
       "298  Violin_or_fiddle  e3f479f3.wav\n",
       "299  Violin_or_fiddle  fec00143.wav\n",
       "\n",
       "[300 rows x 2 columns]"
      ]
     },
     "execution_count": 16,
     "metadata": {},
     "output_type": "execute_result"
    }
   ],
   "source": [
    "df = pd.DataFrame(instruments_dict)\n",
    "df"
   ]
  },
  {
   "cell_type": "code",
   "execution_count": 15,
   "metadata": {},
   "outputs": [],
   "source": [
    "# if file does not exist write header \n",
    "if not os.path.isfile('instruments.csv'):\n",
    "   df.to_csv('instruments.csv', header='column_names')\n",
    "else: # else it exists so append without mentioning the header\n",
    "   df.to_csv('instruments.csv', mode='a', header=False)"
   ]
  },
  {
   "cell_type": "code",
   "execution_count": 18,
   "metadata": {},
   "outputs": [
    {
     "data": {
      "text/html": [
       "<div>\n",
       "<style scoped>\n",
       "    .dataframe tbody tr th:only-of-type {\n",
       "        vertical-align: middle;\n",
       "    }\n",
       "\n",
       "    .dataframe tbody tr th {\n",
       "        vertical-align: top;\n",
       "    }\n",
       "\n",
       "    .dataframe thead th {\n",
       "        text-align: right;\n",
       "    }\n",
       "</style>\n",
       "<table border=\"1\" class=\"dataframe\">\n",
       "  <thead>\n",
       "    <tr style=\"text-align: right;\">\n",
       "      <th></th>\n",
       "      <th>Instrument</th>\n",
       "    </tr>\n",
       "    <tr>\n",
       "      <th>Sound</th>\n",
       "      <th></th>\n",
       "    </tr>\n",
       "  </thead>\n",
       "  <tbody>\n",
       "    <tr>\n",
       "      <th>0356dec7.wav</th>\n",
       "      <td>Acoustic_guitar</td>\n",
       "    </tr>\n",
       "    <tr>\n",
       "      <th>0eeaebcb.wav</th>\n",
       "      <td>Acoustic_guitar</td>\n",
       "    </tr>\n",
       "    <tr>\n",
       "      <th>10da16fb.wav</th>\n",
       "      <td>Acoustic_guitar</td>\n",
       "    </tr>\n",
       "    <tr>\n",
       "      <th>160c92d7.wav</th>\n",
       "      <td>Acoustic_guitar</td>\n",
       "    </tr>\n",
       "    <tr>\n",
       "      <th>16c9a838.wav</th>\n",
       "      <td>Acoustic_guitar</td>\n",
       "    </tr>\n",
       "    <tr>\n",
       "      <th>...</th>\n",
       "      <td>...</td>\n",
       "    </tr>\n",
       "    <tr>\n",
       "      <th>d6144e01.wav</th>\n",
       "      <td>Violin_or_fiddle</td>\n",
       "    </tr>\n",
       "    <tr>\n",
       "      <th>d84c8c43.wav</th>\n",
       "      <td>Violin_or_fiddle</td>\n",
       "    </tr>\n",
       "    <tr>\n",
       "      <th>d914225a.wav</th>\n",
       "      <td>Violin_or_fiddle</td>\n",
       "    </tr>\n",
       "    <tr>\n",
       "      <th>e3f479f3.wav</th>\n",
       "      <td>Violin_or_fiddle</td>\n",
       "    </tr>\n",
       "    <tr>\n",
       "      <th>fec00143.wav</th>\n",
       "      <td>Violin_or_fiddle</td>\n",
       "    </tr>\n",
       "  </tbody>\n",
       "</table>\n",
       "<p>300 rows × 1 columns</p>\n",
       "</div>"
      ],
      "text/plain": [
       "                    Instrument\n",
       "Sound                         \n",
       "0356dec7.wav   Acoustic_guitar\n",
       "0eeaebcb.wav   Acoustic_guitar\n",
       "10da16fb.wav   Acoustic_guitar\n",
       "160c92d7.wav   Acoustic_guitar\n",
       "16c9a838.wav   Acoustic_guitar\n",
       "...                        ...\n",
       "d6144e01.wav  Violin_or_fiddle\n",
       "d84c8c43.wav  Violin_or_fiddle\n",
       "d914225a.wav  Violin_or_fiddle\n",
       "e3f479f3.wav  Violin_or_fiddle\n",
       "fec00143.wav  Violin_or_fiddle\n",
       "\n",
       "[300 rows x 1 columns]"
      ]
     },
     "execution_count": 18,
     "metadata": {},
     "output_type": "execute_result"
    }
   ],
   "source": [
    "df.set_index('Sound', inplace = True)\n",
    "df"
   ]
  },
  {
   "cell_type": "code",
   "execution_count": 21,
   "metadata": {},
   "outputs": [
    {
     "data": {
      "text/html": [
       "<div>\n",
       "<style scoped>\n",
       "    .dataframe tbody tr th:only-of-type {\n",
       "        vertical-align: middle;\n",
       "    }\n",
       "\n",
       "    .dataframe tbody tr th {\n",
       "        vertical-align: top;\n",
       "    }\n",
       "\n",
       "    .dataframe thead th {\n",
       "        text-align: right;\n",
       "    }\n",
       "</style>\n",
       "<table border=\"1\" class=\"dataframe\">\n",
       "  <thead>\n",
       "    <tr style=\"text-align: right;\">\n",
       "      <th></th>\n",
       "      <th>Instrument</th>\n",
       "      <th>length</th>\n",
       "    </tr>\n",
       "    <tr>\n",
       "      <th>Sound</th>\n",
       "      <th></th>\n",
       "      <th></th>\n",
       "    </tr>\n",
       "  </thead>\n",
       "  <tbody>\n",
       "    <tr>\n",
       "      <th>0356dec7.wav</th>\n",
       "      <td>Acoustic_guitar</td>\n",
       "      <td>7.12</td>\n",
       "    </tr>\n",
       "    <tr>\n",
       "      <th>0eeaebcb.wav</th>\n",
       "      <td>Acoustic_guitar</td>\n",
       "      <td>8.02</td>\n",
       "    </tr>\n",
       "    <tr>\n",
       "      <th>10da16fb.wav</th>\n",
       "      <td>Acoustic_guitar</td>\n",
       "      <td>3.34</td>\n",
       "    </tr>\n",
       "    <tr>\n",
       "      <th>160c92d7.wav</th>\n",
       "      <td>Acoustic_guitar</td>\n",
       "      <td>3.32</td>\n",
       "    </tr>\n",
       "    <tr>\n",
       "      <th>16c9a838.wav</th>\n",
       "      <td>Acoustic_guitar</td>\n",
       "      <td>3.14</td>\n",
       "    </tr>\n",
       "    <tr>\n",
       "      <th>...</th>\n",
       "      <td>...</td>\n",
       "      <td>...</td>\n",
       "    </tr>\n",
       "    <tr>\n",
       "      <th>d6144e01.wav</th>\n",
       "      <td>Violin_or_fiddle</td>\n",
       "      <td>2.96</td>\n",
       "    </tr>\n",
       "    <tr>\n",
       "      <th>d84c8c43.wav</th>\n",
       "      <td>Violin_or_fiddle</td>\n",
       "      <td>3.90</td>\n",
       "    </tr>\n",
       "    <tr>\n",
       "      <th>d914225a.wav</th>\n",
       "      <td>Violin_or_fiddle</td>\n",
       "      <td>4.02</td>\n",
       "    </tr>\n",
       "    <tr>\n",
       "      <th>e3f479f3.wav</th>\n",
       "      <td>Violin_or_fiddle</td>\n",
       "      <td>15.24</td>\n",
       "    </tr>\n",
       "    <tr>\n",
       "      <th>fec00143.wav</th>\n",
       "      <td>Violin_or_fiddle</td>\n",
       "      <td>6.28</td>\n",
       "    </tr>\n",
       "  </tbody>\n",
       "</table>\n",
       "<p>300 rows × 2 columns</p>\n",
       "</div>"
      ],
      "text/plain": [
       "                    Instrument  length\n",
       "Sound                                 \n",
       "0356dec7.wav   Acoustic_guitar    7.12\n",
       "0eeaebcb.wav   Acoustic_guitar    8.02\n",
       "10da16fb.wav   Acoustic_guitar    3.34\n",
       "160c92d7.wav   Acoustic_guitar    3.32\n",
       "16c9a838.wav   Acoustic_guitar    3.14\n",
       "...                        ...     ...\n",
       "d6144e01.wav  Violin_or_fiddle    2.96\n",
       "d84c8c43.wav  Violin_or_fiddle    3.90\n",
       "d914225a.wav  Violin_or_fiddle    4.02\n",
       "e3f479f3.wav  Violin_or_fiddle   15.24\n",
       "fec00143.wav  Violin_or_fiddle    6.28\n",
       "\n",
       "[300 rows x 2 columns]"
      ]
     },
     "execution_count": 21,
     "metadata": {},
     "output_type": "execute_result"
    }
   ],
   "source": [
    "for fol in os.listdir(path):\n",
    "    inner_path = path + fol + '/'\n",
    "    for file in os.listdir(inner_path):\n",
    "        rate, signal = wavfile.read(inner_path+file)\n",
    "        df.at[file, 'length'] = signal.shape[0]/rate\n",
    "df"
   ]
  },
  {
   "cell_type": "code",
   "execution_count": 25,
   "metadata": {},
   "outputs": [
    {
     "data": {
      "text/plain": [
       "Instrument\n",
       "Acoustic_guitar     6.948667\n",
       "Bass_drum           1.937333\n",
       "Cello               5.000667\n",
       "Clarinet            6.596000\n",
       "Double_bass         3.206000\n",
       "Flute               8.054667\n",
       "Hi_hat              3.357333\n",
       "Saxophone           7.124000\n",
       "Snare_drum          3.987333\n",
       "Violin_or_fiddle    4.530000\n",
       "Name: length, dtype: float64"
      ]
     },
     "execution_count": 25,
     "metadata": {},
     "output_type": "execute_result"
    }
   ],
   "source": [
    "classes = list(np.unique(df.Instrument))\n",
    "class_dist = df.groupby(['Instrument'])['length'].mean()\n",
    "class_dist"
   ]
  },
  {
   "cell_type": "code",
   "execution_count": 27,
   "metadata": {},
   "outputs": [
    {
     "data": {
      "image/png": "[encoded data removed]",
      "text/plain": [
       "<Figure size 432x288 with 1 Axes>"
      ]
     },
     "metadata": {},
     "output_type": "display_data"
    }
   ],
   "source": [
    "fig, ax = plt.subplots()\n",
    "ax.set_title('Class Length Distribution')\n",
    "ax.pie(class_dist, labels = class_dist.index, autopct = '%1.1f%%', startangle = 90)\n",
    "ax.axis('equal')\n",
    "plt.show()\n",
    "df.reset_index(inplace=True)"
   ]
  },
  {
   "cell_type": "code",
   "execution_count": null,
   "metadata": {},
   "outputs": [],
   "source": [
    "for c in classes:\n",
    "    wavfile = df[df.label == c].iloc[0, 0]\n",
    "    signal, rate = librosa.load(path + c + wavfile, sr = 44100)\n",
    "    "
   ]
  },
  {
   "cell_type": "code",
   "execution_count": null,
   "metadata": {},
   "outputs": [],
   "source": []
  }
 ],
 "metadata": {
  "kernelspec": {
   "display_name": "Python 3.7.6 64-bit",
   "language": "python",
   "name": "python3"
  },
  "language_info": {
   "codemirror_mode": {
    "name": "ipython",
    "version": 3
   },
   "file_extension": ".py",
   "mimetype": "text/x-python",
   "name": "python",
   "nbconvert_exporter": "python",
   "pygments_lexer": "ipython3",
   "version": "3.7.6"
  },
  "orig_nbformat": 4,
  "vscode": {
   "interpreter": {
    "hash": "b29d23a7aa800d417b33173245f4c5b1582cb77e8cfea8985fb49c0b47ed5782"
   }
  }
 },
 "nbformat": 4,
 "nbformat_minor": 2
}
